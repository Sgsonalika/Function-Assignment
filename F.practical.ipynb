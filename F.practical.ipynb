{
 "cells": [
  {
   "cell_type": "code",
   "execution_count": 1,
   "id": "2e7daa4e-83bb-493c-88ca-ddfdc2d55dc0",
   "metadata": {},
   "outputs": [
    {
     "name": "stdout",
     "output_type": "stream",
     "text": [
      "Sum of even numbers: 20\n"
     ]
    }
   ],
   "source": [
    "#1Write a Python function that takes a list of numbers as input and returns the sum of all even numbers in\n",
    "#the list.\n",
    "def sum_():\n",
    "    #numbers = list(map(int, input(\"Enter numbers separated by space: \").split()))\n",
    "    numbers = [1,2,3,4,5,6,7,8,9]\n",
    "    even = sum(num for num in numbers if num % 2 == 0)\n",
    "    return even\n",
    "\n",
    "\n",
    "result = sum_()\n",
    "print(\"Sum of even numbers:\", result)\n"
   ]
  },
  {
   "cell_type": "code",
   "execution_count": 2,
   "id": "821be81b-844e-4820-a46c-6d504afb549b",
   "metadata": {},
   "outputs": [
    {
     "name": "stdin",
     "output_type": "stream",
     "text": [
      "Enter the string:  Hello World\n"
     ]
    },
    {
     "data": {
      "text/plain": [
       "'dlroW olleH'"
      ]
     },
     "execution_count": 2,
     "metadata": {},
     "output_type": "execute_result"
    }
   ],
   "source": [
    "#2. Create a Python function that accepts a string and returns the reverse of that string.\n",
    "def func():\n",
    "    s = input(\"Enter the string: \")\n",
    "    s = s[::-1]\n",
    "    return s\n",
    "func()"
   ]
  },
  {
   "cell_type": "code",
   "execution_count": 3,
   "id": "63654bcc-4eba-4e8f-89b2-427e1b91b91c",
   "metadata": {},
   "outputs": [
    {
     "data": {
      "text/plain": [
       "[1, 4, 9, 16, 64]"
      ]
     },
     "execution_count": 3,
     "metadata": {},
     "output_type": "execute_result"
    }
   ],
   "source": [
    "#3. Implement a Python function that takes a list of integers and returns a new list containing the squares of\n",
    "#each number.\n",
    "def sq(n):\n",
    "    l=[]\n",
    "    for i in n:\n",
    "        s=i**2\n",
    "        l.append(s)\n",
    "    return l\n",
    "sq([1,2,3,4,8])"
   ]
  },
  {
   "cell_type": "code",
   "execution_count": 4,
   "id": "e80d78d0-0249-46ec-bb45-4d9344f799c3",
   "metadata": {},
   "outputs": [
    {
     "data": {
      "text/plain": [
       "[1, 4, 9]"
      ]
     },
     "execution_count": 4,
     "metadata": {},
     "output_type": "execute_result"
    }
   ],
   "source": [
    "#3\n",
    "l = [1,2,3]\n",
    "def sq(n):\n",
    "    return n**2\n",
    "list(map(sq,l))"
   ]
  },
  {
   "cell_type": "code",
   "execution_count": 5,
   "id": "18f7f69d-bdcf-4b42-aae3-32dffd24c1fe",
   "metadata": {},
   "outputs": [
    {
     "name": "stdout",
     "output_type": "stream",
     "text": [
      "2\n",
      "3\n",
      "5\n",
      "7\n",
      "11\n",
      "13\n",
      "17\n",
      "19\n",
      "23\n",
      "29\n",
      "31\n",
      "37\n",
      "41\n",
      "43\n",
      "47\n",
      "53\n",
      "59\n",
      "61\n",
      "67\n",
      "71\n",
      "73\n",
      "79\n",
      "83\n",
      "89\n",
      "97\n",
      "101\n",
      "103\n",
      "107\n",
      "109\n",
      "113\n",
      "127\n",
      "131\n",
      "137\n",
      "139\n",
      "149\n",
      "151\n",
      "157\n",
      "163\n",
      "167\n",
      "173\n",
      "179\n",
      "181\n",
      "191\n",
      "193\n",
      "197\n",
      "199\n"
     ]
    }
   ],
   "source": [
    "#4  Write a Python function that checks if a given number is prime or not from 1 to 200.\n",
    "def is_prime(num):\n",
    "    \n",
    "    if num < 2:\n",
    "        return False\n",
    "    for i in range(2, int(num**0.5) + 1):\n",
    "        if num % i == 0:\n",
    "            return False\n",
    "    return True\n",
    "\n",
    "\n",
    "for num in range(1, 201):\n",
    "    if is_prime(num):\n",
    "        print(num)\n",
    "        #print(f\"{num} is a prime number.\")\n",
    "    #else:\n",
    "        #print(f\"{num} is not a prime number.\")\n",
    "\n",
    "    "
   ]
  },
  {
   "cell_type": "code",
   "execution_count": 6,
   "id": "4cd336c2-aa2a-4f88-b70a-f9061839beab",
   "metadata": {},
   "outputs": [
    {
     "name": "stdout",
     "output_type": "stream",
     "text": [
      "0\n",
      "1\n",
      "1\n",
      "2\n",
      "3\n",
      "5\n",
      "8\n",
      "13\n",
      "21\n",
      "34\n"
     ]
    }
   ],
   "source": [
    "#5. Create an iterator class in Python that generates the Fibonacci sequence up to a specified number of terms.\n",
    "class Fibonacci:\n",
    "    def __init__(self, num_terms):\n",
    "        self.num_terms = num_terms  \n",
    "        self.current = 0  \n",
    "        self.a = 0  \n",
    "        self.b = 1  \n",
    "\n",
    "    def __iter__(self):\n",
    "        return self  \n",
    "\n",
    "    def __next__(self):\n",
    "        if self.current >= self.num_terms:\n",
    "           \n",
    "            raise StopIteration  \n",
    "           \n",
    "        if self.current == 0:\n",
    "            self.current += 1\n",
    "            return self.a  \n",
    "        elif self.current == 1:\n",
    "            self.current += 1\n",
    "            return self.b  \n",
    "        else:\n",
    "            \n",
    "            next_fib = self.a + self.b\n",
    "            self.a, self.b = self.b, next_fib  \n",
    "            self.current += 1\n",
    "            return next_fib  \n",
    "\n",
    "\n",
    "fib = Fibonacci(10)  \n",
    "for num in fib:\n",
    "    print(num)\n"
   ]
  },
  {
   "cell_type": "code",
   "execution_count": 7,
   "id": "609aca13-272c-481a-a0c8-4dbe906c7056",
   "metadata": {},
   "outputs": [
    {
     "name": "stdout",
     "output_type": "stream",
     "text": [
      "1\n",
      "2\n",
      "4\n",
      "8\n",
      "16\n",
      "32\n"
     ]
    }
   ],
   "source": [
    "#6. Write a generator function in Python that yields the powers of 2 up to a given exponent.\n",
    "def powers(max_exponent):\n",
    "    for n in range(max_exponent + 1):\n",
    "        yield 2 ** n  \n",
    "\n",
    "\n",
    "for power in powers(5): \n",
    "    print(power)\n"
   ]
  },
  {
   "cell_type": "code",
   "execution_count": 8,
   "id": "d388bf1f-399b-4395-b601-20b1e45740ca",
   "metadata": {},
   "outputs": [],
   "source": [
    "p=powers(5)"
   ]
  },
  {
   "cell_type": "code",
   "execution_count": 9,
   "id": "aa3624e1-2ff4-4c36-a080-5be19050e230",
   "metadata": {},
   "outputs": [
    {
     "data": {
      "text/plain": [
       "<generator object powers at 0x7eedb00b8ac0>"
      ]
     },
     "execution_count": 9,
     "metadata": {},
     "output_type": "execute_result"
    }
   ],
   "source": [
    "p"
   ]
  },
  {
   "cell_type": "code",
   "execution_count": 10,
   "id": "1bac7c51-81eb-4db9-b03f-573d9b00c679",
   "metadata": {},
   "outputs": [
    {
     "data": {
      "text/plain": [
       "1"
      ]
     },
     "execution_count": 10,
     "metadata": {},
     "output_type": "execute_result"
    }
   ],
   "source": [
    "next(p)"
   ]
  },
  {
   "cell_type": "code",
   "execution_count": 11,
   "id": "c23f7117-d581-4521-abf6-91402433d58b",
   "metadata": {},
   "outputs": [
    {
     "name": "stdout",
     "output_type": "stream",
     "text": [
      "[(4, 1), (5, 2), (1, 3), (2, 4)]\n"
     ]
    }
   ],
   "source": [
    "#8 Use a lambda function in Python to sort a list of tuples based on the second element of each tuple.\n",
    "\n",
    "tuples_list = [(1, 3), (4, 1), (5, 2), (2, 4)]\n",
    "\n",
    "\n",
    "sorted_list = sorted(tuples_list, key=lambda x: x[1])\n",
    "\n",
    "print(sorted_list)\n"
   ]
  },
  {
   "cell_type": "code",
   "execution_count": 12,
   "id": "1887e70f-687d-41d8-8296-4a2211d6e76d",
   "metadata": {},
   "outputs": [
    {
     "name": "stdout",
     "output_type": "stream",
     "text": [
      "[32.0, 68.0, 98.6, 212.0]\n"
     ]
    }
   ],
   "source": [
    "#9. Write a Python program that uses `map()` to convert a list of temperatures from Celsius to Fahrenheit.\n",
    "\n",
    "def celsius_to_fahrenheit(celsius):\n",
    "    return (celsius * 9/5) + 32\n",
    "\n",
    "celsius = [0, 20, 37, 100]\n",
    "\n",
    "fahrenheit = list(map(celsius_to_fahrenheit, celsius))\n",
    "\n",
    "\n",
    "print(fahrenheit)\n"
   ]
  },
  {
   "cell_type": "code",
   "execution_count": 13,
   "id": "1ba2ef55-9399-47ca-8f00-0e94a38a820e",
   "metadata": {},
   "outputs": [
    {
     "name": "stdout",
     "output_type": "stream",
     "text": [
      "Hll, Wrld!\n"
     ]
    }
   ],
   "source": [
    "#10. Create a Python program that uses `filter()` to remove all the vowels from a given string.\n",
    "\n",
    "def is_not_vowel(char):\n",
    "    return char.lower() not in 'aeiou'\n",
    "\n",
    "input_string = \"Hello, World!\"\n",
    "\n",
    "filtered_string = ''.join(filter(is_not_vowel, input_string))\n",
    "\n",
    "print(filtered_string)\n"
   ]
  },
  {
   "cell_type": "code",
   "execution_count": 14,
   "id": "075e8cfc-e0b4-46e0-807d-8581e3c4be92",
   "metadata": {},
   "outputs": [
    {
     "name": "stdout",
     "output_type": "stream",
     "text": [
      "[(34587, 163.8), (98762, 284.0), (77226, 108.85000000000001), (88112, 84.97)]\n"
     ]
    }
   ],
   "source": [
    "#11. Imagine an accounting routine used in a book shop. It works on a list with sublists, which look like this:\n",
    "\n",
    "#Write a Python program, which returns a list with 2-tuples. Each tuple consists of the order number and the\n",
    "#product of the price per item and the quantity. The product should be increased by 10,- € if the value of the\n",
    "#order is smaller than 100,00 €.\n",
    "\n",
    "#Write a Python program using lambda and map.\n",
    "\n",
    "\n",
    "orders = [\n",
    "    [34587, \"Learning Python, Mark Lutz\", 4, 40.95],\n",
    "    [98762, \"Programming Python, Mark Lutz\", 5, 56.80],\n",
    "    [77226, \"Head First Python, Paul Barry\", 3, 32.95],\n",
    "    [88112, \"Einführung in Python3, Bernd Klein\", 3, 24.99]\n",
    "]\n",
    "\n",
    "final_orders = list(map(lambda x: (x[0], x[2] * x[3] if x[2] * x[3] >= 100 else x[2] * x[3] + 10), orders))\n",
    "\n",
    "\n",
    "print(final_orders)\n"
   ]
  }
 ],
 "metadata": {
  "kernelspec": {
   "display_name": "Python 3 (ipykernel)",
   "language": "python",
   "name": "python3"
  },
  "language_info": {
   "codemirror_mode": {
    "name": "ipython",
    "version": 3
   },
   "file_extension": ".py",
   "mimetype": "text/x-python",
   "name": "python",
   "nbconvert_exporter": "python",
   "pygments_lexer": "ipython3",
   "version": "3.10.8"
  }
 },
 "nbformat": 4,
 "nbformat_minor": 5
}
